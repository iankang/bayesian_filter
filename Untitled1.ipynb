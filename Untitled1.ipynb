{
 "cells": [
  {
   "cell_type": "code",
   "execution_count": 4,
   "metadata": {},
   "outputs": [
    {
     "name": "stdout",
     "output_type": "stream",
     "text": [
      "Pearsons correlation: 0.799\n"
     ]
    }
   ],
   "source": [
    "# calculate the Pearson's correlation between two variables\n",
    "from numpy.random import randn\n",
    "from numpy.random import seed\n",
    "from scipy.stats import pearsonr\n",
    "# seed random number generator\n",
    "seed(1)\n",
    "# prepare data\n",
    "data1 = (0.83, 0.67, 0.60, 0.86, 0.67, 0.67, 0.76, 0.80, 0.92, 0.77, 0.85, 0.95, 0.63, 0.69, 0.87, 0.63, 0.76, 0.88, 0.84, 0.90, 0.87, 0.90, 0.88, 0.88)\n",
    "data2 = (0.76, 0.58, 0.66, 0.72, 0.68, 0.70, 0.72, 0.78, 0.81, 0.88, 0.79, 0.88, 0.56, 0.74, 0.92, 0.71, 0.85, 0.92, 0.87, 0.85, 0.95, 0.95, 0.93, 0.89)\n",
    "# calculate Pearson's correlation\n",
    "corr, _ = pearsonr(data1, data2)\n",
    "print('Pearsons correlation: %.3f' % corr)"
   ]
  },
  {
   "cell_type": "code",
   "execution_count": null,
   "metadata": {},
   "outputs": [],
   "source": []
  }
 ],
 "metadata": {
  "kernelspec": {
   "display_name": "Python 3",
   "language": "python",
   "name": "python3"
  },
  "language_info": {
   "codemirror_mode": {
    "name": "ipython",
    "version": 3
   },
   "file_extension": ".py",
   "mimetype": "text/x-python",
   "name": "python",
   "nbconvert_exporter": "python",
   "pygments_lexer": "ipython3",
   "version": "3.7.6"
  }
 },
 "nbformat": 4,
 "nbformat_minor": 4
}
