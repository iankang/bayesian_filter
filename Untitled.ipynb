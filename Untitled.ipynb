{
 "cells": [
  {
   "cell_type": "code",
   "execution_count": 10,
   "metadata": {},
   "outputs": [
    {
     "ename": "SyntaxError",
     "evalue": "invalid syntax (<ipython-input-10-b2d908734c19>, line 8)",
     "output_type": "error",
     "traceback": [
      "\u001b[1;36m  File \u001b[1;32m\"<ipython-input-10-b2d908734c19>\"\u001b[1;36m, line \u001b[1;32m8\u001b[0m\n\u001b[1;33m    data 1 = (0.88, 0.71, 0.73, 0.90, 0.80, 0.60, 0.64, 0.75, 0.68, 0.65, 0.70, 0.79, 0.51, 0.63, 0.56, 0.50, 0.57, 0.68, 0.86, 0.90, 0.90, 0.91, 0.90, 0.89)\u001b[0m\n\u001b[1;37m         ^\u001b[0m\n\u001b[1;31mSyntaxError\u001b[0m\u001b[1;31m:\u001b[0m invalid syntax\n"
     ]
    }
   ],
   "source": [
    "# calculate the Pearson's correlation between two variables\n",
    "from numpy.random import randn\n",
    "from numpy.random import seed\n",
    "from scipy.stats import pearsonr\n",
    "# seed random number generator\n",
    "seed(1)\n",
    "# prepare data\n",
    "data 1 = (0.88, 0.71, 0.73, 0.90, 0.80, 0.60, 0.64, 0.75, 0.68, 0.65, 0.70, 0.79, 0.51, 0.63, 0.56, 0.50, 0.57, 0.68, 0.86, 0.90, 0.90, 0.91, 0.90, 0.89)\n",
    "data 2 = (0.83, 0.76, 0.78, 0.95, 0.85, 0.65, 0.69, 0.81, 0.72, 0.71, 0.76, 0.84, 0.56, 0.68, 0.61, 0.61, 0.61, 0.73, 0.83, 0.92, 0.88, 0.93, 0.94, 0.94)\n",
    "# calculate Pearson's correlation\n",
    "corr, _ = pearsonr(data1, data2)\n",
    "print('Pearsons correlation: %.3f' % corr)"
   ]
  },
  {
   "cell_type": "code",
   "execution_count": null,
   "metadata": {},
   "outputs": [],
   "source": []
  }
 ],
 "metadata": {
  "kernelspec": {
   "display_name": "Python 3",
   "language": "python",
   "name": "python3"
  },
  "language_info": {
   "codemirror_mode": {
    "name": "ipython",
    "version": 3
   },
   "file_extension": ".py",
   "mimetype": "text/x-python",
   "name": "python",
   "nbconvert_exporter": "python",
   "pygments_lexer": "ipython3",
   "version": "3.7.6"
  }
 },
 "nbformat": 4,
 "nbformat_minor": 4
}
